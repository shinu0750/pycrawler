{
 "cells": [
  {
   "cell_type": "markdown",
   "metadata": {},
   "source": [
    "# API 資料串接 - 以 知乎 API 實作範例\n",
    "\n",
    "\n",
    "\n",
    "* 了解知乎 API 使用方式與回傳內容\n",
    "* 撰寫程式存取 API 且添加標頭\n",
    "\n",
    "\n"
   ]
  },
  {
   "cell_type": "markdown",
   "metadata": {},
   "source": [
    "## 作業目標\n",
    "\n",
    "* 根據範例提供的 API ，完成以下問題：\n",
    "\n",
    "    1. 取出知乎問題發問時間\n",
    "    2. 取出第一筆與最後一筆回答的時間\n"
   ]
  },
  {
   "cell_type": "markdown",
   "metadata": {},
   "source": [
    "### 1. 取出知乎問題發問時間"
   ]
  },
  {
   "cell_type": "code",
   "execution_count": 83,
   "metadata": {},
   "outputs": [
    {
     "name": "stdout",
     "output_type": "stream",
     "text": [
      "['2019-05-14 04:00:12', '2019-03-31 21:17:08', '2017-05-02 01:48:23', '2017-05-01 21:45:13', '2019-10-28 22:07:06']\n"
     ]
    }
   ],
   "source": [
    "# 1. 取出知乎問題發問時間\n",
    "\n",
    "import requests\n",
    "import json\n",
    "import datetime as dt\n",
    "\n",
    "headers = {'user-agent': 'my-app/0.0.1'}\n",
    "r = requests.get('https://www.zhihu.com/api/v4/questions/55493026/answers',headers=headers)\n",
    "response = r.text\n",
    "\n",
    "data = json.loads(response)\n",
    "TimeList = []\n",
    "\n",
    "for i in range(len(data[\"data\"])):\n",
    "    #print(dt.datetime.fromtimestamp(data[\"data\"][i][\"question\"][\"created\"]).strftime(\"%Y-%m-%d %H:%M:%S\"))\n",
    "    time = dt.datetime.fromtimestamp(data[\"data\"][i][\"created_time\"]).strftime(\"%Y-%m-%d %H:%M:%S\")\n",
    "    TimeList.append(time)\n",
    "print(TimeList)"
   ]
  },
  {
   "cell_type": "markdown",
   "metadata": {},
   "source": [
    "### 2. 取出第一筆與最後一筆回答的時間"
   ]
  },
  {
   "cell_type": "code",
   "execution_count": 84,
   "metadata": {},
   "outputs": [
    {
     "name": "stdout",
     "output_type": "stream",
     "text": [
      "first: 2019-05-14 04:00:12\n",
      "Last: 2019-11-26 02:14:14\n"
     ]
    }
   ],
   "source": [
    "# 2. 取出第一筆與最後一筆回答的時間\n",
    "\n",
    "TimeList = []\n",
    "\n",
    "for i in range(len(data[\"data\"])):\n",
    "    #print(dt.datetime.fromtimestamp(data[\"data\"][i][\"question\"][\"created\"]).strftime(\"%Y-%m-%d %H:%M:%S\"))\n",
    "    time = dt.datetime.fromtimestamp(data[\"data\"][i][\"updated_time\"]).strftime(\"%Y-%m-%d %H:%M:%S\")\n",
    "    TimeList.append(time)\n",
    "print(\"first: \" + TimeList[0])\n",
    "print(\"Last: \" + TimeList[-1])"
   ]
  }
 ],
 "metadata": {
  "kernelspec": {
   "display_name": "Python 3",
   "language": "python",
   "name": "python3"
  },
  "language_info": {
   "codemirror_mode": {
    "name": "ipython",
    "version": 3
   },
   "file_extension": ".py",
   "mimetype": "text/x-python",
   "name": "python",
   "nbconvert_exporter": "python",
   "pygments_lexer": "ipython3",
   "version": "3.7.2"
  }
 },
 "nbformat": 4,
 "nbformat_minor": 2
}
