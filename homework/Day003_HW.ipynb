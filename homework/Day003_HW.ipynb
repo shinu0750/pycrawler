{
 "cells": [
  {
   "cell_type": "markdown",
   "metadata": {},
   "source": [
    "# Python 下載XML檔案與解析\n",
    "\n",
    "\n",
    "* 了解 xml 檔案格式與內容\n",
    "* 能夠利用套件存取 xml 格式的檔案\n"
   ]
  },
  {
   "cell_type": "markdown",
   "metadata": {},
   "source": [
    "## 作業目標\n",
    "\n",
    "* 比較一下範例檔案中的「File I/O」與「xmltodict」讀出來的內容有什麼差異\n",
    "\n",
    "* 根據範例檔案的結果：\n",
    "    1. 請問高雄市有多少地區有溫度資料？\n",
    "    2. 請取出每一個地區所記錄的第一個時間點跟溫度\n",
    "    3. 請取出第一個地區所記錄的每一個時間點跟溫度"
   ]
  },
  {
   "cell_type": "markdown",
   "metadata": {},
   "source": [
    "### 比較一下範例檔案中的「File I/O」與「xmltodict」讀出來的內容有什麼差異\n"
   ]
  },
  {
   "cell_type": "code",
   "execution_count": 6,
   "metadata": {},
   "outputs": [
    {
     "name": "stdout",
     "output_type": "stream",
     "text": [
      "<class 'str'>\n",
      "<class 'collections.OrderedDict'>\n"
     ]
    }
   ],
   "source": [
    "import os, sys\n",
    "import xmltodict\n",
    "\n",
    "# 打开文件\n",
    "dirs = os.listdir( './data' )\n",
    "\n",
    "# File I/O\n",
    "fh = open(\"./data/64_72hr_CH.xml\", \"r\", encoding = \"utf-8\")\n",
    "xml = fh.read()\n",
    "fh.close()\n",
    "print(type(xml))\n",
    "\n",
    "#xmltodict\n",
    "print(type(xmltodict.parse(xml)))\n",
    "d = dict(xmltodict.parse(xml))"
   ]
  },
  {
   "cell_type": "markdown",
   "metadata": {},
   "source": [
    "File I/O 讀出的檔案在python中是文字檔(str)，內容為XML型式。  \n",
    "xmltodict 讀出的檔案在python中是 collections.OrderedDict，可以再透過dict model將檔案轉換成字典檔(dict)"
   ]
  },
  {
   "cell_type": "markdown",
   "metadata": {},
   "source": [
    "### 根據範例檔案的結果：\n",
    "\n",
    "1. 請問高雄市有多少地區有溫度資料？\n",
    "2. 請取出每一個地區所記錄的第一個時間點跟溫度\n",
    "3. 請取出第一個地區所記錄的每一個時間點跟溫度"
   ]
  },
  {
   "cell_type": "code",
   "execution_count": 187,
   "metadata": {},
   "outputs": [
    {
     "name": "stdout",
     "output_type": "stream",
     "text": [
      "38 locations\n"
     ]
    }
   ],
   "source": [
    "# 1. 請問高雄市有多少地區有溫度資料？\n",
    "\n",
    "location = d[\"cwbopendata\"][\"dataset\"][\"locations\"][\"location\"]\n",
    "\n",
    "print(str(len(location)) + \" locations\")"
   ]
  },
  {
   "cell_type": "code",
   "execution_count": 179,
   "metadata": {},
   "outputs": [
    {
     "name": "stdout",
     "output_type": "stream",
     "text": [
      "鹽埕區\n",
      "Time: 2019-12-12T00:00:00+08:00\n",
      "Temperature: 20\n",
      "鼓山區\n",
      "Time: 2019-12-12T00:00:00+08:00\n",
      "Temperature: 20\n",
      "左營區\n",
      "Time: 2019-12-12T00:00:00+08:00\n",
      "Temperature: 19\n",
      "楠梓區\n",
      "Time: 2019-12-12T00:00:00+08:00\n",
      "Temperature: 19\n",
      "三民區\n",
      "Time: 2019-12-12T00:00:00+08:00\n",
      "Temperature: 20\n",
      "新興區\n",
      "Time: 2019-12-12T00:00:00+08:00\n",
      "Temperature: 20\n",
      "前金區\n",
      "Time: 2019-12-12T00:00:00+08:00\n",
      "Temperature: 20\n",
      "苓雅區\n",
      "Time: 2019-12-12T00:00:00+08:00\n",
      "Temperature: 20\n",
      "前鎮區\n",
      "Time: 2019-12-12T00:00:00+08:00\n",
      "Temperature: 20\n",
      "旗津區\n",
      "Time: 2019-12-12T00:00:00+08:00\n",
      "Temperature: 20\n",
      "小港區\n",
      "Time: 2019-12-12T00:00:00+08:00\n",
      "Temperature: 20\n",
      "鳳山區\n",
      "Time: 2019-12-12T00:00:00+08:00\n",
      "Temperature: 20\n",
      "林園區\n",
      "Time: 2019-12-12T00:00:00+08:00\n",
      "Temperature: 20\n",
      "大寮區\n",
      "Time: 2019-12-12T00:00:00+08:00\n",
      "Temperature: 20\n",
      "大樹區\n",
      "Time: 2019-12-12T00:00:00+08:00\n",
      "Temperature: 18\n",
      "大社區\n",
      "Time: 2019-12-12T00:00:00+08:00\n",
      "Temperature: 18\n",
      "仁武區\n",
      "Time: 2019-12-12T00:00:00+08:00\n",
      "Temperature: 18\n",
      "鳥松區\n",
      "Time: 2019-12-12T00:00:00+08:00\n",
      "Temperature: 19\n",
      "岡山區\n",
      "Time: 2019-12-12T00:00:00+08:00\n",
      "Temperature: 18\n",
      "橋頭區\n",
      "Time: 2019-12-12T00:00:00+08:00\n",
      "Temperature: 19\n",
      "燕巢區\n",
      "Time: 2019-12-12T00:00:00+08:00\n",
      "Temperature: 18\n",
      "田寮區\n",
      "Time: 2019-12-12T00:00:00+08:00\n",
      "Temperature: 17\n",
      "阿蓮區\n",
      "Time: 2019-12-12T00:00:00+08:00\n",
      "Temperature: 17\n",
      "路竹區\n",
      "Time: 2019-12-12T00:00:00+08:00\n",
      "Temperature: 18\n",
      "湖內區\n",
      "Time: 2019-12-12T00:00:00+08:00\n",
      "Temperature: 18\n",
      "茄萣區\n",
      "Time: 2019-12-12T00:00:00+08:00\n",
      "Temperature: 18\n",
      "永安區\n",
      "Time: 2019-12-12T00:00:00+08:00\n",
      "Temperature: 19\n",
      "彌陀區\n",
      "Time: 2019-12-12T00:00:00+08:00\n",
      "Temperature: 19\n",
      "梓官區\n",
      "Time: 2019-12-12T00:00:00+08:00\n",
      "Temperature: 18\n",
      "旗山區\n",
      "Time: 2019-12-12T00:00:00+08:00\n",
      "Temperature: 18\n",
      "美濃區\n",
      "Time: 2019-12-12T00:00:00+08:00\n",
      "Temperature: 18\n",
      "六龜區\n",
      "Time: 2019-12-12T00:00:00+08:00\n",
      "Temperature: 17\n",
      "甲仙區\n",
      "Time: 2019-12-12T00:00:00+08:00\n",
      "Temperature: 15\n",
      "杉林區\n",
      "Time: 2019-12-12T00:00:00+08:00\n",
      "Temperature: 18\n",
      "內門區\n",
      "Time: 2019-12-12T00:00:00+08:00\n",
      "Temperature: 14\n",
      "茂林區\n",
      "Time: 2019-12-12T00:00:00+08:00\n",
      "Temperature: 16\n",
      "桃源區\n",
      "Time: 2019-12-12T00:00:00+08:00\n",
      "Temperature: 14\n",
      "那瑪夏區\n",
      "Time: 2019-12-12T00:00:00+08:00\n",
      "Temperature: 13\n"
     ]
    }
   ],
   "source": [
    "# 2. 請取出每一個地區所記錄的第一個時間點跟溫度\n",
    "\n",
    "for i in range(len(location)):\n",
    "    print(dict(location[i])[\"locationName\"])\n",
    "    print(\"Time: \" + dict(dict(location[i][\"weatherElement\"][0])[\"time\"][0])[\"dataTime\"])\n",
    "    print(\"Temperature: \" + dict(dict(dict(location[i][\"weatherElement\"][0])[\"time\"][0])[\"elementValue\"])[\"value\"])"
   ]
  },
  {
   "cell_type": "code",
   "execution_count": 184,
   "metadata": {},
   "outputs": [
    {
     "name": "stdout",
     "output_type": "stream",
     "text": [
      "0\n",
      "Time: 2019-12-12T00:00:00+08:00\n",
      "Temperature: 19\n",
      "1\n",
      "Time: 2019-12-12T03:00:00+08:00\n",
      "Temperature: 18\n",
      "2\n",
      "Time: 2019-12-12T06:00:00+08:00\n",
      "Temperature: 18\n",
      "3\n",
      "Time: 2019-12-12T09:00:00+08:00\n",
      "Temperature: 19\n",
      "4\n",
      "Time: 2019-12-12T12:00:00+08:00\n",
      "Temperature: 24\n",
      "5\n",
      "Time: 2019-12-12T15:00:00+08:00\n",
      "Temperature: 25\n",
      "6\n",
      "Time: 2019-12-12T18:00:00+08:00\n",
      "Temperature: 22\n",
      "7\n",
      "Time: 2019-12-12T21:00:00+08:00\n",
      "Temperature: 20\n",
      "8\n",
      "Time: 2019-12-13T00:00:00+08:00\n",
      "Temperature: 19\n",
      "9\n",
      "Time: 2019-12-13T03:00:00+08:00\n",
      "Temperature: 18\n",
      "10\n",
      "Time: 2019-12-13T06:00:00+08:00\n",
      "Temperature: 18\n",
      "11\n",
      "Time: 2019-12-13T09:00:00+08:00\n",
      "Temperature: 20\n",
      "12\n",
      "Time: 2019-12-13T12:00:00+08:00\n",
      "Temperature: 25\n",
      "13\n",
      "Time: 2019-12-13T15:00:00+08:00\n",
      "Temperature: 26\n",
      "14\n",
      "Time: 2019-12-13T18:00:00+08:00\n",
      "Temperature: 24\n",
      "15\n",
      "Time: 2019-12-13T21:00:00+08:00\n",
      "Temperature: 21\n",
      "16\n",
      "Time: 2019-12-14T00:00:00+08:00\n",
      "Temperature: 20\n",
      "17\n",
      "Time: 2019-12-14T03:00:00+08:00\n",
      "Temperature: 19\n",
      "18\n",
      "Time: 2019-12-14T06:00:00+08:00\n",
      "Temperature: 18\n",
      "19\n",
      "Time: 2019-12-14T09:00:00+08:00\n",
      "Temperature: 20\n",
      "20\n",
      "Time: 2019-12-14T12:00:00+08:00\n",
      "Temperature: 25\n",
      "21\n",
      "Time: 2019-12-14T15:00:00+08:00\n",
      "Temperature: 26\n",
      "22\n",
      "Time: 2019-12-14T18:00:00+08:00\n",
      "Temperature: 24\n",
      "23\n",
      "Time: 2019-12-14T21:00:00+08:00\n",
      "Temperature: 22\n"
     ]
    }
   ],
   "source": [
    "# 3. 請取出第一個地區所記錄的每一個時間點跟溫度\n",
    "\n",
    "len(dict(location[0][\"weatherElement\"][0])[\"time\"])\n",
    "dict(dict(dict(location[2][\"weatherElement\"][0])[\"time\"][0])[\"elementValue\"])[\"value\"]\n",
    "\n",
    "for i in range(len(dict(location[0][\"weatherElement\"][0])[\"time\"])):\n",
    "    print(str(i))\n",
    "    print(\"Time: \" + dict(dict(location[2][\"weatherElement\"][0])[\"time\"][i])[\"dataTime\"])\n",
    "    print(\"Temperature: \" + dict(dict(dict(location[2][\"weatherElement\"][0])[\"time\"][i])[\"elementValue\"])[\"value\"])"
   ]
  }
 ],
 "metadata": {
  "kernelspec": {
   "display_name": "Python 3",
   "language": "python",
   "name": "python3"
  },
  "language_info": {
   "codemirror_mode": {
    "name": "ipython",
    "version": 3
   },
   "file_extension": ".py",
   "mimetype": "text/x-python",
   "name": "python",
   "nbconvert_exporter": "python",
   "pygments_lexer": "ipython3",
   "version": "3.7.2"
  }
 },
 "nbformat": 4,
 "nbformat_minor": 2
}
